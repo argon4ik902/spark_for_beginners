{
 "cells": [
  {
   "cell_type": "code",
   "execution_count": 5,
   "metadata": {},
   "outputs": [
    {
     "name": "stdout",
     "output_type": "stream",
     "text": [
      "Запускаем PySpark...\n"
     ]
    }
   ],
   "source": [
    "from pyspark.sql import SparkSession\n",
    "from pyspark.sql.functions import col, lit\n",
    "\n",
    "print(\"Запускаем PySpark...\")\n",
    "\n",
    "# Инициализация сессии Spark\n",
    "spark = SparkSession.builder \\\n",
    "    .appName(\"SimplePySparkTest\") \\\n",
    "    .master(\"local[*]\") \\\n",
    "    .config(\"spark.ui.port\", \"4040\") \\\n",
    "    .getOrCreate()"
   ]
  },
  {
   "cell_type": "code",
   "execution_count": 6,
   "metadata": {},
   "outputs": [
    {
     "name": "stdout",
     "output_type": "stream",
     "text": [
      "Версия Spark: 3.3.2\n"
     ]
    }
   ],
   "source": [
    "print(\"Версия Spark:\", spark.version)"
   ]
  },
  {
   "cell_type": "code",
   "execution_count": 7,
   "metadata": {},
   "outputs": [],
   "source": [
    "data = [\n",
    "    (1, \"Иван\", 30),\n",
    "    (2, \"Мария\", 25),\n",
    "    (3, \"Петр\", 40),\n",
    "    (4, \"Анна\", 35),\n",
    "    (5, \"Сергей\", 45)\n",
    "]\n",
    "\n",
    "# Создание DataFrame\n",
    "columns = [\"id\", \"name\", \"age\"]\n",
    "df = spark.createDataFrame(data, columns)"
   ]
  },
  {
   "cell_type": "code",
   "execution_count": 9,
   "metadata": {},
   "outputs": [
    {
     "name": "stdout",
     "output_type": "stream",
     "text": [
      "+---+------+---+\n",
      "| id|  name|age|\n",
      "+---+------+---+\n",
      "|  1|  Иван| 30|\n",
      "|  2| Мария| 25|\n",
      "|  3|  Петр| 40|\n",
      "|  4|  Анна| 35|\n",
      "|  5|Сергей| 45|\n",
      "+---+------+---+\n",
      "\n"
     ]
    }
   ],
   "source": [
    "df.show()"
   ]
  },
  {
   "cell_type": "code",
   "execution_count": 10,
   "metadata": {},
   "outputs": [
    {
     "name": "stdout",
     "output_type": "stream",
     "text": [
      "Схема DataFrame:\n",
      "root\n",
      " |-- id: long (nullable = true)\n",
      " |-- name: string (nullable = true)\n",
      " |-- age: long (nullable = true)\n",
      "\n",
      "\n",
      "Примеры данных DataFrame:\n",
      "+---+------+---+\n",
      "| id|  name|age|\n",
      "+---+------+---+\n",
      "|  1|  Иван| 30|\n",
      "|  2| Мария| 25|\n",
      "|  3|  Петр| 40|\n",
      "|  4|  Анна| 35|\n",
      "|  5|Сергей| 45|\n",
      "+---+------+---+\n",
      "\n",
      "\n",
      "Отфильтрованный DataFrame с новой колонкой:\n",
      "+---+------+---+------+\n",
      "| id|  name|age|status|\n",
      "+---+------+---+------+\n",
      "|  3|  Петр| 40|Active|\n",
      "|  4|  Анна| 35|Active|\n",
      "|  5|Сергей| 45|Active|\n",
      "+---+------+---+------+\n",
      "\n",
      "\n",
      "Средний возраст по статусу:\n",
      "+------+--------+\n",
      "|status|avg(age)|\n",
      "+------+--------+\n",
      "|Active|    40.0|\n",
      "+------+--------+\n",
      "\n",
      "\n",
      "Информация о приложении Spark:\n",
      "Имя приложения: SimplePySparkTest\n",
      "URL веб-интерфейса: http://localhost:4040\n",
      "\n",
      "Тест PySpark успешно завершен!\n",
      "\n",
      "Ожидаем 10 секунд для проверки UI...\n",
      "Сессия Spark остановлена.\n"
     ]
    }
   ],
   "source": [
    "print(\"Схема DataFrame:\")\n",
    "df.printSchema()\n",
    "\n",
    "print(\"\\nПримеры данных DataFrame:\")\n",
    "df.show()\n",
    "\n",
    "# Простая трансформация: фильтрация и добавление колонки\n",
    "result_df = df.filter(col(\"age\") > 30) \\\n",
    "    .withColumn(\"status\", lit(\"Active\"))\n",
    "\n",
    "print(\"\\nОтфильтрованный DataFrame с новой колонкой:\")\n",
    "result_df.show()\n",
    "\n",
    "# Простая агрегация\n",
    "print(\"\\nСредний возраст по статусу:\")\n",
    "result_df.groupBy(\"status\").avg(\"age\").show()\n",
    "\n",
    "# Информация о Spark сессии\n",
    "print(\"\\nИнформация о приложении Spark:\")\n",
    "print(f\"Имя приложения: {spark.conf.get('spark.app.name')}\")\n",
    "print(f\"URL веб-интерфейса: http://localhost:{spark.conf.get('spark.ui.port')}\")\n",
    "\n",
    "print(\"\\nТест PySpark успешно завершен!\")\n",
    "\n",
    "# Ждем небольшое время для проверки UI\n",
    "import time\n",
    "print(\"\\nОжидаем 10 секунд для проверки UI...\")\n",
    "time.sleep(10)\n",
    "\n",
    "# Остановка сессии Spark\n",
    "spark.stop()\n",
    "print(\"Сессия Spark остановлена.\") "
   ]
  }
 ],
 "metadata": {
  "kernelspec": {
   "display_name": "Python 3 (ipykernel)",
   "language": "python",
   "name": "python3"
  }
 },
 "nbformat": 4,
 "nbformat_minor": 2
}
